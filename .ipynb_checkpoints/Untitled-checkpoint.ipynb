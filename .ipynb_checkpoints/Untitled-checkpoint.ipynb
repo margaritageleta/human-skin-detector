{
 "cells": [
  {
   "cell_type": "code",
   "execution_count": 1,
   "metadata": {},
   "outputs": [
    {
     "name": "stderr",
     "output_type": "stream",
     "text": [
      "Using TensorFlow backend.\n"
     ]
    }
   ],
   "source": [
    "import numpy as np\n",
    "import pandas as pd\n",
    "import matplotlib.pyplot as plt\n",
    "import keras\n",
    "from SkinDetector import SkinDetector\n",
    "\n",
    "from sklearn.model_selection import train_test_split\n",
    "from keras.utils import to_categorical\n",
    "\n",
    "from keras.models import Sequential\n",
    "from keras.layers import Conv2D, MaxPooling2D\n",
    "from keras.layers import Dense, Dropout\n",
    "from keras.layers import Flatten, BatchNormalization"
   ]
  },
  {
   "cell_type": "code",
   "execution_count": 6,
   "metadata": {},
   "outputs": [],
   "source": [
    "sd = SkinDetector()\n",
    "train = sd.segment_dataset(sd.TR_DATA)\n",
    "train_data = []\n",
    "for i in range(0,60):\n",
    "    result = np.zeros((480,640))\n",
    "    result[:train[i].shape[0],:train[i].shape[1]] = train[i]\n",
    "    train_data.append(result)\n",
    "train_data = np.asarray(train_data)\n",
    "train_labels = np.asarray(sd.TR_LABEL)"
   ]
  },
  {
   "cell_type": "code",
   "execution_count": 7,
   "metadata": {},
   "outputs": [],
   "source": [
    "test = sd.segment_dataset(sd.VD_DATA)\n",
    "test_data = []\n",
    "for i in range(0,test.shape[0]):\n",
    "    result = np.zeros((480,640))\n",
    "    result[:test[i].shape[0],:test[i].shape[1]] = test[i]\n",
    "    test_data.append(result)\n",
    "\n",
    "test_data = np.asarray(test_data)\n",
    "test_labels = np.asarray(sd.VD_LABEL)\n",
    "\n",
    "train_labels = to_categorical(train_labels)\n",
    "test_labels = to_categorical(test_labels)"
   ]
  },
  {
   "cell_type": "code",
   "execution_count": 8,
   "metadata": {},
   "outputs": [],
   "source": [
    "rows, cols = 480, 640\n",
    "train_data = train_data.reshape(train_data.shape[0], rows, cols, 1)\n",
    "test_data = test_data.reshape(test_data.shape[0], rows, cols, 1)\n",
    "\n",
    "train_data = train_data.astype('float32')\n",
    "test_data = test_data.astype('float32')"
   ]
  },
  {
   "cell_type": "code",
   "execution_count": 11,
   "metadata": {},
   "outputs": [],
   "source": [
    "train_x, val_x, train_y, val_y = train_test_split(train_data, train_labels, test_size=0.1)\n",
    "\n",
    "batch_size = 3\n",
    "epochs = 5\n",
    "input_shape = (rows, cols, 1)"
   ]
  },
  {
   "cell_type": "code",
   "execution_count": 13,
   "metadata": {},
   "outputs": [],
   "source": [
    "def baseline_model():\n",
    "    model = Sequential()\n",
    "    model.add(BatchNormalization(input_shape=(input_shape)))\n",
    "    model.add(Conv2D(32, (3, 3), padding='same', activation='relu'))\n",
    "    model.add(MaxPooling2D(pool_size=(2, 2), strides=(2,2)))\n",
    "    model.add(Dropout(0.25))\n",
    "    \n",
    "    model.add(BatchNormalization())\n",
    "    model.add(Conv2D(32, (3, 3), padding='same', activation='relu'))\n",
    "    model.add(MaxPooling2D(pool_size=(2, 2)))\n",
    "    model.add(Dropout(0.25))\n",
    "\n",
    "    model.add(Flatten())\n",
    "    model.add(Dense(128, activation='relu'))\n",
    "    model.add(Dropout(0.5))\n",
    "    model.add(Dense(6, activation='softmax'))\n",
    "    return model"
   ]
  },
  {
   "cell_type": "code",
   "execution_count": null,
   "metadata": {},
   "outputs": [
    {
     "name": "stdout",
     "output_type": "stream",
     "text": [
      "Train on 48 samples, validate on 12 samples\n",
      "Epoch 1/5\n",
      "48/48 [==============================] - 49s 1s/step - loss: 1.9373 - accuracy: 0.1042 - val_loss: 1.7996 - val_accuracy: 0.0000e+00\n",
      "Epoch 2/5\n",
      "48/48 [==============================] - 47s 982ms/step - loss: 3.2818 - accuracy: 0.2708 - val_loss: 1.7822 - val_accuracy: 0.0833\n",
      "Epoch 3/5\n"
     ]
    }
   ],
   "source": [
    "model = baseline_model()\n",
    "model.compile(loss='categorical_crossentropy', optimizer='sgd', metrics=['accuracy'])\n",
    "\n",
    "history = model.fit(train_x, train_y, batch_size=batch_size, epochs=epochs, verbose=1, validation_data=(val_x, val_y))"
   ]
  },
  {
   "cell_type": "code",
   "execution_count": null,
   "metadata": {},
   "outputs": [],
   "source": [
    "predictions= model.predict(test_data)\n",
    "print(predictions)"
   ]
  }
 ],
 "metadata": {
  "kernelspec": {
   "display_name": "Python 3",
   "language": "python",
   "name": "python3"
  },
  "language_info": {
   "codemirror_mode": {
    "name": "ipython",
    "version": 3
   },
   "file_extension": ".py",
   "mimetype": "text/x-python",
   "name": "python",
   "nbconvert_exporter": "python",
   "pygments_lexer": "ipython3",
   "version": "3.7.4"
  }
 },
 "nbformat": 4,
 "nbformat_minor": 2
}
