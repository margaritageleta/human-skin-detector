{
 "cells": [
  {
   "cell_type": "markdown",
   "metadata": {},
   "source": [
    "We define the different packages necessary to execute our code"
   ]
  },
  {
   "cell_type": "code",
   "execution_count": 29,
   "metadata": {},
   "outputs": [],
   "source": [
    "from keras.models import Sequential\n",
    "from keras.layers import Conv2D\n",
    "from keras.layers import MaxPooling2D\n",
    "from keras.layers import Flatten\n",
    "from keras.layers import Dense\n",
    "import numpy as np\n",
    "\n",
    "from SkinDetector import SkinDetector\n",
    "import numpy as np\n",
    "import pandas as pd\n",
    "import matplotlib.pyplot as plt\n",
    "import keras\n",
    "from SkinDetector import SkinDetector\n",
    "\n",
    "from sklearn.model_selection import train_test_split\n",
    "from keras.utils import to_categorical\n",
    "\n",
    "from keras.models import Sequential\n",
    "from keras.layers import Conv2D, MaxPooling2D\n",
    "from keras.layers import Dense, Dropout\n",
    "from keras.layers import Flatten, BatchNormalization\n",
    "import tensorflow as tf"
   ]
  },
  {
   "cell_type": "markdown",
   "metadata": {},
   "source": [
    "Here we initialize the \"SkinDetector\", our previous phase code, that binarizes images detecting skin pixels and setting them to white while the background is set to black. We then process the binarized images and set them to the same size, 480x640, this is necessary because if we do not resize the images, the model will not train them. \n",
    "We resize them by creating a new black image, the same colour as our background, and them inserting the white pixels corresponding to the detected skin. We do the same with the test images aswell.\n",
    "We process the labels too, by setting them to categorical so the model will work correctly. \n",
    "(The code executes satisfactorily and the warnings are not a problem)"
   ]
  },
  {
   "cell_type": "code",
   "execution_count": 30,
   "metadata": {},
   "outputs": [
    {
     "name": "stderr",
     "output_type": "stream",
     "text": [
      "/Users/oriolnarvaez/opt/anaconda3/lib/python3.7/site-packages/skimage/color/colorconv.py:271: RuntimeWarning: divide by zero encountered in true_divide\n",
      "  out[idx, 0] = (arr[idx, 1] - arr[idx, 2]) / delta[idx]\n",
      "/Users/oriolnarvaez/opt/anaconda3/lib/python3.7/site-packages/skimage/color/colorconv.py:279: RuntimeWarning: divide by zero encountered in true_divide\n",
      "  out[idx, 0] = 4. + (arr[idx, 0] - arr[idx, 1]) / delta[idx]\n",
      "/Users/oriolnarvaez/opt/anaconda3/lib/python3.7/site-packages/skimage/color/colorconv.py:265: RuntimeWarning: divide by zero encountered in true_divide\n",
      "  out_s = delta / out_v\n",
      "/Users/oriolnarvaez/opt/anaconda3/lib/python3.7/site-packages/skimage/color/colorconv.py:275: RuntimeWarning: divide by zero encountered in true_divide\n",
      "  out[idx, 0] = 2. + (arr[idx, 2] - arr[idx, 0]) / delta[idx]\n"
     ]
    }
   ],
   "source": [
    "sd = SkinDetector()\n",
    "train = sd.segment_dataset(sd.TR_DATA)\n",
    "train_data = []\n",
    "for i in range(0,60):\n",
    "    result = np.zeros((480,640))\n",
    "    result[:train[i].shape[0],:train[i].shape[1]] = train[i]\n",
    "    train_data.append(result)\n",
    "train_data = np.asarray(train_data)\n",
    "train_labels = np.asarray(sd.TR_LABEL)\n",
    "\n",
    "test = sd.segment_dataset(sd.VD_DATA)\n",
    "test_data = []\n",
    "for i in range(0,test.shape[0]):\n",
    "    result = np.zeros((480,640))\n",
    "    result[:test[i].shape[0],:test[i].shape[1]] = test[i]\n",
    "    test_data.append(result)\n",
    "\n",
    "test_data = np.asarray(test_data)\n",
    "test_labels = np.asarray(sd.VD_LABEL)\n",
    "\n",
    "train_labels = to_categorical(train_labels)\n",
    "test_labels = to_categorical(test_labels)"
   ]
  },
  {
   "cell_type": "markdown",
   "metadata": {},
   "source": [
    "Here we define our model, as we can see this is a Convolutional based model, with just one convolutional layer, some max pooling and two linear layers at the end to classify into the 6 possible classes (0 fingers to 5 fingers).\n",
    "The first convolutional layer is taking 4 arguments, the first is the number of filters, 32, the second one is the size of the filters, 3x3, the the size of the images, in our case 480x640 and the \"1\" to indicate they are binary images. Lastly the activation fucntion, here \"relu\" stands for a recrtifier function.\n",
    "Now we perform a pooling operation on the resultant feature maps we get after the convolution is done on an image. The primary aim of a pooling layers is to reduce the size of the images as much as possible, we are trying to reduce the total number of nodes for the upcoming layers. To do this pooling we take a 2x2 matrix, to minimize pixel loss and get a precise region where the feature are located.\n",
    "The as we can see, we flatten hte pooled images, this is pretty self-explanatory, we just transform the 2D array (pooled images) and converting them to a one dimensional single vector.\n",
    "The next one we can refer to it as a \"hidden layer\", just because is between the input and output layers, this is a dense layer which means is fully connected. The parameter 'units' is where we define the number of nodes that should be present in this hidden layers, the number is not optimal but a close approximation to the best one and it is a commin practice to use a power of 2, in this case 128. The activation function will be a recrifier function, the same as the convolutional layer.\n",
    "Now it is time to initialise our output layer, which should contain 6 nodes, because we have 6 classes. We will be using a sigmoid activation function."
   ]
  },
  {
   "cell_type": "code",
   "execution_count": 31,
   "metadata": {},
   "outputs": [],
   "source": [
    "classifier = Sequential()\n",
    "classifier.add(Conv2D(32, (3, 3),padding='same',input_shape = (480, 640, 1), activation = 'relu'))\n",
    "classifier.add(MaxPooling2D(pool_size = (2, 2)))\n",
    "classifier.add(Flatten())\n",
    "classifier.add(Dense(units = 128, activation = 'relu'))\n",
    "classifier.add(Dense(units = 6, activation = 'sigmoid'))"
   ]
  },
  {
   "cell_type": "markdown",
   "metadata": {},
   "source": [
    "We now compile the model. We have to say that even though it says that is using a \"binary_crossentropy\" loss, this is not to worry, because we have 6 classes, so no binary, but the data is transformed in a way that this is the adequate loss function. If we use the \"categorical crossentropy\" we obtain bad results, because the data is transformed to work with the other one. We just wanted to say this is not a mistake, this is \"planned\". \n",
    "We can also chose the optimizer, in this case \"adam\" because we tried different ones but they are mostly the same.\n",
    "Then in \"metrics\" we chose to display the training accuracy and training recall."
   ]
  },
  {
   "cell_type": "code",
   "execution_count": 32,
   "metadata": {},
   "outputs": [],
   "source": [
    "classifier.compile(optimizer = 'adam', loss = 'binary_crossentropy', metrics = ['accuracy',tf.keras.metrics.Recall()])"
   ]
  },
  {
   "cell_type": "markdown",
   "metadata": {},
   "source": [
    "Here we make sure that the labels are correct, and categorically coded."
   ]
  },
  {
   "cell_type": "code",
   "execution_count": 33,
   "metadata": {},
   "outputs": [
    {
     "data": {
      "text/plain": [
       "(60, 6)"
      ]
     },
     "execution_count": 33,
     "metadata": {},
     "output_type": "execute_result"
    }
   ],
   "source": [
    "train_labels.shape"
   ]
  },
  {
   "cell_type": "markdown",
   "metadata": {},
   "source": [
    "Here we transform the data to comply with the expected input of the model, the \"reshape\" seems redundant, but we really resize the images earlier, this is just to sort the dimensions so the model will work as expected."
   ]
  },
  {
   "cell_type": "code",
   "execution_count": 34,
   "metadata": {},
   "outputs": [],
   "source": [
    "rows, cols = 480, 640\n",
    "train_data = train_data.reshape(train_data.shape[0], rows, cols, 1)\n",
    "test_data = test_data.reshape(test_data.shape[0], rows, cols, 1)\n",
    "\n",
    "train_data = train_data.astype('float32')\n",
    "test_data = test_data.astype('float32')"
   ]
  },
  {
   "cell_type": "markdown",
   "metadata": {},
   "source": [
    "We make sure the reshape work correctly."
   ]
  },
  {
   "cell_type": "code",
   "execution_count": 35,
   "metadata": {},
   "outputs": [
    {
     "data": {
      "text/plain": [
       "(60, 480, 640, 1)"
      ]
     },
     "execution_count": 35,
     "metadata": {},
     "output_type": "execute_result"
    }
   ],
   "source": [
    "train_data.shape"
   ]
  },
  {
   "cell_type": "markdown",
   "metadata": {},
   "source": [
    "Then we train the model, with 20 epochs. (\"verbose = 1\" is just to display the results as we are training)\n",
    "Here we want to clarify that we used all of the training images to actually train, because we tried other training methods using a percentatge of images as a validation, usually 10% or 20%, but because we have so few samples, only 60, this reduction on number of training images really affected the results. So is best to train will all the images and not with a validation set. We thought this will lead to overfit, but as the test results can demonstrate, this model is not overfitted."
   ]
  },
  {
   "cell_type": "code",
   "execution_count": 39,
   "metadata": {},
   "outputs": [
    {
     "name": "stdout",
     "output_type": "stream",
     "text": [
      "Epoch 1/20\n",
      "60/60 [==============================] - 209s 3s/step - loss: 7.2783 - accuracy: 0.5944 - recall_2: 0.3833\n",
      "Epoch 2/20\n",
      "60/60 [==============================] - 164s 3s/step - loss: 3.8268 - accuracy: 0.8139 - recall_2: 0.3522\n",
      "Epoch 3/20\n",
      "60/60 [==============================] - 146s 2s/step - loss: 1.1112 - accuracy: 0.9139 - recall_2: 0.5189\n",
      "Epoch 4/20\n",
      "60/60 [==============================] - 176s 3s/step - loss: 0.5631 - accuracy: 0.9361 - recall_2: 0.6008\n",
      "Epoch 5/20\n",
      "60/60 [==============================] - 276s 5s/step - loss: 0.2075 - accuracy: 0.9722 - recall_2: 0.6637\n",
      "Epoch 6/20\n",
      "60/60 [==============================] - 291s 5s/step - loss: 0.1867 - accuracy: 0.9694 - recall_2: 0.7065\n",
      "Epoch 7/20\n",
      "60/60 [==============================] - 224s 4s/step - loss: 0.0540 - accuracy: 0.9889 - recall_2: 0.7374\n",
      "Epoch 8/20\n",
      "60/60 [==============================] - 178s 3s/step - loss: 0.0312 - accuracy: 0.9944 - recall_2: 0.7691\n",
      "Epoch 9/20\n",
      "60/60 [==============================] - 144s 2s/step - loss: 0.0058 - accuracy: 0.9972 - recall_2: 0.7945 \n",
      "Epoch 10/20\n",
      "60/60 [==============================] - 207s 3s/step - loss: 0.0064 - accuracy: 0.9944 - recall_2: 0.8139\n",
      "Epoch 11/20\n",
      "60/60 [==============================] - 143s 2s/step - loss: 5.2680e-05 - accuracy: 1.0000 - recall_2: 0.8312\n",
      "Epoch 12/20\n",
      "60/60 [==============================] - 134s 2s/step - loss: 4.4708e-05 - accuracy: 1.0000 - recall_2: 0.8455\n",
      "Epoch 13/20\n",
      "60/60 [==============================] - 125s 2s/step - loss: 5.1669e-05 - accuracy: 1.0000 - recall_2: 0.8577\n",
      "Epoch 14/20\n",
      "60/60 [==============================] - 124s 2s/step - loss: 5.7977e-05 - accuracy: 1.0000 - recall_2: 0.8680\n",
      "Epoch 15/20\n",
      "60/60 [==============================] - 155s 3s/step - loss: 4.8345e-05 - accuracy: 1.0000 - recall_2: 0.8769\n",
      "Epoch 16/20\n",
      "60/60 [==============================] - 172s 3s/step - loss: 3.8282e-05 - accuracy: 1.0000 - recall_2: 0.8848\n",
      "Epoch 17/20\n",
      "60/60 [==============================] - 141s 2s/step - loss: 3.0585e-05 - accuracy: 1.0000 - recall_2: 0.8916\n",
      "Epoch 18/20\n",
      "60/60 [==============================] - 145s 2s/step - loss: 2.2280e-05 - accuracy: 1.0000 - recall_2: 0.8977\n",
      "Epoch 19/20\n",
      "60/60 [==============================] - 130s 2s/step - loss: 1.8047e-05 - accuracy: 1.0000 - recall_2: 0.9032\n",
      "Epoch 20/20\n",
      "60/60 [==============================] - 180s 3s/step - loss: 1.5798e-05 - accuracy: 1.0000 - recall_2: 0.9081\n"
     ]
    }
   ],
   "source": [
    "history = classifier.fit(train_data, train_labels, epochs=20, verbose=1)"
   ]
  },
  {
   "cell_type": "markdown",
   "metadata": {},
   "source": [
    "Lastly, with the model trained, is time to evaluate it. We do so with the \".evaluate\" function of the own model with the \"test_dataset\" and we get test loss, accuracy and recall."
   ]
  },
  {
   "cell_type": "code",
   "execution_count": 43,
   "metadata": {},
   "outputs": [
    {
     "name": "stdout",
     "output_type": "stream",
     "text": [
      "\n",
      "# Evaluate on test data\n",
      "45/45 [==============================] - 8s 174ms/step\n",
      "test loss, test acc, test recall: [4.735368506113688, 0.7333333492279053, 0.8640578985214233]\n"
     ]
    }
   ],
   "source": [
    "print('\\n# Evaluate on test data')\n",
    "results = classifier.evaluate(test_data, test_labels)\n",
    "print('test loss, test acc, test recall:', results)"
   ]
  },
  {
   "cell_type": "markdown",
   "metadata": {},
   "source": [
    "Here we compute the F1-score as defined in the given project description."
   ]
  },
  {
   "cell_type": "code",
   "execution_count": 42,
   "metadata": {},
   "outputs": [
    {
     "data": {
      "text/plain": [
       "0.8030356138432837"
      ]
     },
     "execution_count": 42,
     "metadata": {},
     "output_type": "execute_result"
    }
   ],
   "source": [
    "(2*(results[1]*results[2]))/(results[1]+results[2])"
   ]
  }
 ],
 "metadata": {
  "kernelspec": {
   "display_name": "Python 3",
   "language": "python",
   "name": "python3"
  },
  "language_info": {
   "codemirror_mode": {
    "name": "ipython",
    "version": 3
   },
   "file_extension": ".py",
   "mimetype": "text/x-python",
   "name": "python",
   "nbconvert_exporter": "python",
   "pygments_lexer": "ipython3",
   "version": "3.7.4"
  }
 },
 "nbformat": 4,
 "nbformat_minor": 2
}
